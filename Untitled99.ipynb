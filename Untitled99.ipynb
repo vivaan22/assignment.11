{
 "cells": [
  {
   "cell_type": "code",
   "execution_count": null,
   "id": "63b0c93e",
   "metadata": {},
   "outputs": [],
   "source": [
    "def prime(n): \n",
    "    if n <= 0: \n",
    "        return \"Not defined\" \n",
    "    elif n == 1: \n",
    "        return \"Not prime\" \n",
    "    for i in range(2, n): \n",
    "        if n%i == 0: \n",
    "            return \"not prime\" \n",
    "    return \"prime\" \n",
    " \n",
    " \n",
    "def list_prime(lst): \n",
    "    prime_list =[ ] \n",
    "    for i in lst: \n",
    "        x = prime(i) \n",
    "    if x == \"prime\": \n",
    "        prime_list.append(i) \n",
    "    return prime_list \n",
    " \n",
    "print(list_prime([1,2,3,4,5,6,7,8,9])) "
   ]
  },
  {
   "cell_type": "code",
   "execution_count": null,
   "id": "2f6515de",
   "metadata": {},
   "outputs": [],
   "source": [
    "l = [1, 2, 3, 4]\n",
    "print(\"Popped element:\", l.pop())\n",
    "print(\"List after pop():\", l)"
   ]
  },
  {
   "cell_type": "code",
   "execution_count": null,
   "id": "ad3e4e55",
   "metadata": {},
   "outputs": [],
   "source": [
    "# define punctuation\n",
    "punctuations = '''!()-[]{};:'\"\\,<>./?@#$%^&*_~'''\n",
    "\n",
    "my_str = \"Hello!!!, he said ---and went.\"\n",
    "\n",
    "# To take input from the user\n",
    "# my_str = input(\"Enter a string: \")\n",
    "\n",
    "# remove punctuation from the string\n",
    "no_punct = \"\"\n",
    "for char in my_str:\n",
    "   if char not in punctuations:\n",
    "       no_punct = no_punct + char\n",
    "\n",
    "# display the unpunctuated string\n",
    "print(no_punct)"
   ]
  },
  {
   "cell_type": "code",
   "execution_count": null,
   "id": "aa9eeb7c",
   "metadata": {},
   "outputs": [],
   "source": [
    "def sortString(str):\n",
    "    return reduce(lambda a, b: a + b, sorted(str))\n",
    "\n",
    "str = 'PYTHON'\n",
    "print(sortString(str))"
   ]
  },
  {
   "cell_type": "code",
   "execution_count": null,
   "id": "88b1a02f",
   "metadata": {},
   "outputs": [],
   "source": [
    "def fun(n):\n",
    "    if n==0:\n",
    "        return\n",
    "    fun(n-1)\n",
    "    print(n)"
   ]
  }
 ],
 "metadata": {
  "kernelspec": {
   "display_name": "Python 3",
   "language": "python",
   "name": "python3"
  },
  "language_info": {
   "codemirror_mode": {
    "name": "ipython",
    "version": 3
   },
   "file_extension": ".py",
   "mimetype": "text/x-python",
   "name": "python",
   "nbconvert_exporter": "python",
   "pygments_lexer": "ipython3",
   "version": "3.8.8"
  }
 },
 "nbformat": 4,
 "nbformat_minor": 5
}
